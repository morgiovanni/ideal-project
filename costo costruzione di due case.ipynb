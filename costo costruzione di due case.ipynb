{
 "cells": [
  {
   "cell_type": "code",
   "execution_count": 2,
   "metadata": {},
   "outputs": [
    {
     "name": "stdout",
     "output_type": "stream",
     "text": [
      "la casa bagatte ha un  costo stimato di costruzione di 325202 euro\n",
      "la casa al Santuario ha un  costo stimato di costruzione di 664097 euro\n"
     ]
    }
   ],
   "source": [
    " #FUNZIONE PER CALCOLARE IL COSTO DI COSTRUZIONE DI DUE CASE. \n",
    "                          #PRIMA CASA\n",
    "def costo_di_una_casa1 (nome_casa, mattoni,tegole,cemento):\n",
    "  costo_costruzione = 220*mattoni+345*tegole+758*cemento # NUMERO DI MATTONI, TEGOLE,CEMENTO NECESSARI PER COSTRUIRE LA CASA\n",
    "  print (nome_casa+\" costo stimato di costruzione di \" + str (costo_costruzione)+\" euro\")\n",
    "  return costo_costruzione #CALCOLA IL NUMERO DI MATTONI,TEGOLE,CEMENTO PER IL PREZZO. \n",
    "costo_casa_bagatte = costo_di_una_casa1 ( nome_casa = \"la casa bagatte ha un \", mattoni=50,tegole=100,cemento=369)#50,100,369=PREZZI\n",
    "def costo_di_una_casa2 (nome_casa, mattoni,tegole,cemento):\n",
    "  costo_costruzione = 220*mattoni+345*tegole+758*cemento\n",
    "  print (nome_casa+\" costo stimato di costruzione di \" + str (costo_costruzione)+\" euro\")\n",
    "  return costo_costruzione \n",
    "costo_casa_bagatte = costo_di_una_casa2 ( nome_casa = \"la casa al Santuario ha un \", mattoni=57,tegole=199,cemento=769) "
   ]
  },
  {
   "cell_type": "code",
   "execution_count": null,
   "metadata": {},
   "outputs": [],
   "source": []
  }
 ],
 "metadata": {
  "kernelspec": {
   "display_name": "Python 3",
   "language": "python",
   "name": "python3"
  },
  "language_info": {
   "codemirror_mode": {
    "name": "ipython",
    "version": 3
   },
   "file_extension": ".py",
   "mimetype": "text/x-python",
   "name": "python",
   "nbconvert_exporter": "python",
   "pygments_lexer": "ipython3",
   "version": "3.8.5"
  }
 },
 "nbformat": 4,
 "nbformat_minor": 4
}
